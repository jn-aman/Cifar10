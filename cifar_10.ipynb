{
  "nbformat": 4,
  "nbformat_minor": 0,
  "metadata": {
    "colab": {
      "name": "cifar 10.ipynb",
      "version": "0.3.2",
      "provenance": [],
      "collapsed_sections": []
    },
    "kernelspec": {
      "name": "python3",
      "display_name": "Python 3"
    },
    "accelerator": "GPU"
  },
  "cells": [
    {
      "cell_type": "code",
      "metadata": {
        "id": "fePCsDN7gBoC",
        "colab_type": "code",
        "colab": {}
      },
      "source": [
        "from keras.datasets import cifar10\n",
        "from matplotlib import pyplot\n",
        "from scipy.misc import toimage\n",
        "(X_train, y_train), (X_test, y_test) = cifar10.load_data()\n"
      ],
      "execution_count": 0,
      "outputs": []
    },
    {
      "cell_type": "code",
      "metadata": {
        "id": "_bjBkGAFgEw4",
        "colab_type": "code",
        "colab": {}
      },
      "source": [
        "import numpy\n",
        "from keras.datasets import cifar10\n",
        "from keras.models import Sequential\n",
        "from keras.layers import Dense\n",
        "from keras.layers import Dropout\n",
        "from keras.layers import Flatten\n",
        "from keras.constraints import maxnorm\n",
        "from keras.layers.convolutional import Conv2D\n",
        "from keras.layers.convolutional import MaxPooling2D\n",
        "from keras.utils import np_utils\n"
      ],
      "execution_count": 0,
      "outputs": []
    },
    {
      "cell_type": "code",
      "metadata": {
        "id": "mioQlT0HgKnh",
        "colab_type": "code",
        "colab": {}
      },
      "source": [
        "numpy.random.seed(1)"
      ],
      "execution_count": 0,
      "outputs": []
    },
    {
      "cell_type": "code",
      "metadata": {
        "id": "yffoEa-sgLCE",
        "colab_type": "code",
        "colab": {}
      },
      "source": [
        "(X_train, y_train), (X_test, y_test) = cifar10.load_data()"
      ],
      "execution_count": 0,
      "outputs": []
    },
    {
      "cell_type": "code",
      "metadata": {
        "id": "WKhi7aFAgM1a",
        "colab_type": "code",
        "colab": {}
      },
      "source": [
        "X_train = X_train.astype('float32')\n",
        "X_test = X_test.astype('float32')\n",
        "X_train = X_train / 255.0\n",
        "X_test = X_test / 255.0"
      ],
      "execution_count": 0,
      "outputs": []
    },
    {
      "cell_type": "code",
      "metadata": {
        "id": "bs6Kqog9gO-_",
        "colab_type": "code",
        "colab": {}
      },
      "source": [
        "y_train = np_utils.to_categorical(y_train)\n",
        "y_test = np_utils.to_categorical(y_test)\n",
        "num_classes = y_test.shape[1]"
      ],
      "execution_count": 0,
      "outputs": []
    },
    {
      "cell_type": "code",
      "metadata": {
        "id": "CSj49YL9gQ3r",
        "colab_type": "code",
        "outputId": "34f03500-26a6-4c19-96e7-74825ff57e0d",
        "colab": {
          "base_uri": "https://localhost:8080/",
          "height": 561
        }
      },
      "source": [
        "model = Sequential()\n",
        "model.add(Conv2D(32, (3, 3), input_shape=(3, 32, 32), padding='same', activation='relu'))\n",
        "model.add(Dropout(0.2))\n",
        "model.add(Conv2D(32, (3, 3), activation='relu', padding='same', kernel_constraint=maxnorm(3)))\n",
        "model.add(MaxPooling2D(pool_size=(2, 2)))\n",
        "model.add(Conv2D(32, (3, 3), activation='relu', padding='same', kernel_constraint=maxnorm(3)))\n",
        "model.add(MaxPooling2D(pool_size=(2, 2)))\n",
        "model.add(Conv2D(32, (3, 3), activation='relu', padding='same', kernel_constraint=maxnorm(3)))\n",
        "model.add(MaxPooling2D(pool_size=(2, 2)))\n",
        "model.add(Flatten())\n",
        "model.add(Dense(512, activation='relu', kernel_constraint=maxnorm(3)))\n",
        "model.add(Dropout(0.5))\n",
        "model.add(Dense(num_classes, activation='softmax'))\n",
        "epochs = 25\n",
        "\n",
        "\n",
        "model.compile(loss='categorical_crossentropy',optimizer='adam' ,metrics=['accuracy'])\n",
        "print(model.summary())"
      ],
      "execution_count": 25,
      "outputs": [
        {
          "output_type": "stream",
          "text": [
            "_________________________________________________________________\n",
            "Layer (type)                 Output Shape              Param #   \n",
            "=================================================================\n",
            "conv2d_11 (Conv2D)           (None, 32, 32, 32)        896       \n",
            "_________________________________________________________________\n",
            "dropout_9 (Dropout)          (None, 32, 32, 32)        0         \n",
            "_________________________________________________________________\n",
            "conv2d_12 (Conv2D)           (None, 32, 32, 32)        9248      \n",
            "_________________________________________________________________\n",
            "max_pooling2d_7 (MaxPooling2 (None, 32, 16, 16)        0         \n",
            "_________________________________________________________________\n",
            "conv2d_13 (Conv2D)           (None, 32, 16, 16)        9248      \n",
            "_________________________________________________________________\n",
            "max_pooling2d_8 (MaxPooling2 (None, 32, 8, 8)          0         \n",
            "_________________________________________________________________\n",
            "conv2d_14 (Conv2D)           (None, 32, 8, 8)          9248      \n",
            "_________________________________________________________________\n",
            "max_pooling2d_9 (MaxPooling2 (None, 32, 4, 4)          0         \n",
            "_________________________________________________________________\n",
            "flatten_5 (Flatten)          (None, 512)               0         \n",
            "_________________________________________________________________\n",
            "dense_9 (Dense)              (None, 512)               262656    \n",
            "_________________________________________________________________\n",
            "dropout_10 (Dropout)         (None, 512)               0         \n",
            "_________________________________________________________________\n",
            "dense_10 (Dense)             (None, 10)                5130      \n",
            "=================================================================\n",
            "Total params: 296,426\n",
            "Trainable params: 296,426\n",
            "Non-trainable params: 0\n",
            "_________________________________________________________________\n",
            "None\n"
          ],
          "name": "stdout"
        }
      ]
    },
    {
      "cell_type": "code",
      "metadata": {
        "id": "3BCTW92JgU-K",
        "colab_type": "code",
        "outputId": "e1ca1e0d-077c-47ac-d60d-d00e7c16df44",
        "colab": {
          "base_uri": "https://localhost:8080/",
          "height": 901
        }
      },
      "source": [
        "model.fit(X_train, y_train, validation_data=(X_test, y_test), epochs=25, batch_size=100)\n",
        "scores = model.evaluate(X_test, y_test, verbose=0)\n",
        "print(\"Accuracy: %.2f%%\" % (scores[1]*100))"
      ],
      "execution_count": 26,
      "outputs": [
        {
          "output_type": "stream",
          "text": [
            "Train on 50000 samples, validate on 10000 samples\n",
            "Epoch 1/25\n",
            "50000/50000 [==============================] - 6s 113us/step - loss: 1.6369 - acc: 0.3978 - val_loss: 1.2905 - val_acc: 0.5430\n",
            "Epoch 2/25\n",
            "50000/50000 [==============================] - 5s 99us/step - loss: 1.2386 - acc: 0.5560 - val_loss: 1.0966 - val_acc: 0.6069\n",
            "Epoch 3/25\n",
            "50000/50000 [==============================] - 5s 99us/step - loss: 1.0582 - acc: 0.6262 - val_loss: 0.9872 - val_acc: 0.6548\n",
            "Epoch 4/25\n",
            "50000/50000 [==============================] - 5s 99us/step - loss: 0.9427 - acc: 0.6675 - val_loss: 0.8915 - val_acc: 0.6859\n",
            "Epoch 5/25\n",
            "50000/50000 [==============================] - 5s 99us/step - loss: 0.8600 - acc: 0.6943 - val_loss: 0.8466 - val_acc: 0.7082\n",
            "Epoch 6/25\n",
            "50000/50000 [==============================] - 5s 99us/step - loss: 0.7970 - acc: 0.7195 - val_loss: 0.8088 - val_acc: 0.7192\n",
            "Epoch 7/25\n",
            "50000/50000 [==============================] - 5s 99us/step - loss: 0.7488 - acc: 0.7368 - val_loss: 0.7809 - val_acc: 0.7302\n",
            "Epoch 8/25\n",
            "50000/50000 [==============================] - 5s 102us/step - loss: 0.6982 - acc: 0.7551 - val_loss: 0.7498 - val_acc: 0.7380\n",
            "Epoch 9/25\n",
            "50000/50000 [==============================] - 5s 105us/step - loss: 0.6667 - acc: 0.7662 - val_loss: 0.7183 - val_acc: 0.7520\n",
            "Epoch 10/25\n",
            "50000/50000 [==============================] - 5s 101us/step - loss: 0.6350 - acc: 0.7755 - val_loss: 0.7459 - val_acc: 0.7455\n",
            "Epoch 11/25\n",
            "50000/50000 [==============================] - 5s 99us/step - loss: 0.6055 - acc: 0.7871 - val_loss: 0.7320 - val_acc: 0.7502\n",
            "Epoch 12/25\n",
            "50000/50000 [==============================] - 5s 99us/step - loss: 0.5769 - acc: 0.7965 - val_loss: 0.7417 - val_acc: 0.7522\n",
            "Epoch 13/25\n",
            "50000/50000 [==============================] - 5s 100us/step - loss: 0.5499 - acc: 0.8029 - val_loss: 0.7234 - val_acc: 0.7564\n",
            "Epoch 14/25\n",
            "50000/50000 [==============================] - 5s 99us/step - loss: 0.5254 - acc: 0.8147 - val_loss: 0.7168 - val_acc: 0.7564\n",
            "Epoch 15/25\n",
            "50000/50000 [==============================] - 5s 99us/step - loss: 0.5080 - acc: 0.8193 - val_loss: 0.7013 - val_acc: 0.7662\n",
            "Epoch 16/25\n",
            "50000/50000 [==============================] - 5s 99us/step - loss: 0.4847 - acc: 0.8252 - val_loss: 0.7419 - val_acc: 0.7586\n",
            "Epoch 17/25\n",
            "50000/50000 [==============================] - 5s 99us/step - loss: 0.4625 - acc: 0.8345 - val_loss: 0.7197 - val_acc: 0.7670\n",
            "Epoch 18/25\n",
            "50000/50000 [==============================] - 5s 105us/step - loss: 0.4542 - acc: 0.8366 - val_loss: 0.7248 - val_acc: 0.7680\n",
            "Epoch 19/25\n",
            "50000/50000 [==============================] - 5s 108us/step - loss: 0.4372 - acc: 0.8431 - val_loss: 0.7040 - val_acc: 0.7716\n",
            "Epoch 20/25\n",
            "50000/50000 [==============================] - 5s 102us/step - loss: 0.4170 - acc: 0.8495 - val_loss: 0.7404 - val_acc: 0.7693\n",
            "Epoch 21/25\n",
            "50000/50000 [==============================] - 5s 100us/step - loss: 0.4069 - acc: 0.8538 - val_loss: 0.7546 - val_acc: 0.7665\n",
            "Epoch 22/25\n",
            "50000/50000 [==============================] - 5s 99us/step - loss: 0.3980 - acc: 0.8569 - val_loss: 0.7686 - val_acc: 0.7659\n",
            "Epoch 23/25\n",
            "50000/50000 [==============================] - 5s 100us/step - loss: 0.3827 - acc: 0.8614 - val_loss: 0.7804 - val_acc: 0.7720\n",
            "Epoch 24/25\n",
            "50000/50000 [==============================] - 5s 103us/step - loss: 0.3716 - acc: 0.8643 - val_loss: 0.7462 - val_acc: 0.7720\n",
            "Epoch 25/25\n",
            "50000/50000 [==============================] - 5s 105us/step - loss: 0.3600 - acc: 0.8694 - val_loss: 0.7914 - val_acc: 0.7681\n",
            "Accuracy: 76.81%\n"
          ],
          "name": "stdout"
        }
      ]
    },
    {
      "cell_type": "code",
      "metadata": {
        "id": "YT2J2P0egZOS",
        "colab_type": "code",
        "colab": {}
      },
      "source": [
        ""
      ],
      "execution_count": 0,
      "outputs": []
    }
  ]
}